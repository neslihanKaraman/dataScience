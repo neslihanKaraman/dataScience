{
 "cells": [
  {
   "cell_type": "markdown",
   "metadata": {},
   "source": [
    "# "
   ]
  },
  {
   "cell_type": "markdown",
   "metadata": {},
   "source": [
    "# Week 1"
   ]
  },
  {
   "cell_type": "markdown",
   "metadata": {},
   "source": [
    "#### Exercise 1\n",
    "Write a function that receives a list as parameter and return how many elements it has; if it doesn't have any element return an error."
   ]
  },
  {
   "cell_type": "code",
   "execution_count": 36,
   "metadata": {},
   "outputs": [
    {
     "name": "stdout",
     "output_type": "stream",
     "text": [
      "4\n"
     ]
    }
   ],
   "source": [
    "counter=0\n",
    "def find_number_elements(list):\n",
    "    #I used global variable to access from within the function\n",
    "    global counter\n",
    "    \n",
    "    for elements in list:\n",
    "        counter +=1\n",
    "\n",
    "    if counter==0:\n",
    "        print(\"error\")\n",
    "    else:\n",
    "        print(counter)\n",
    "\n",
    "list_a=[12,15,16,24]\n",
    "find_number_elements(list_a)"
   ]
  },
  {
   "cell_type": "markdown",
   "metadata": {},
   "source": [
    "#### Exercise 2\n",
    "Write a function that receives a string as parameter and return the number of each character in it."
   ]
  },
  {
   "cell_type": "code",
   "execution_count": 32,
   "metadata": {},
   "outputs": [
    {
     "name": "stdout",
     "output_type": "stream",
     "text": [
      "5\n",
      "10\n",
      "3\n"
     ]
    }
   ],
   "source": [
    "counter2=0\n",
    "def find_string_characters(str_list):\n",
    "    #I used global variable to access from within the function\n",
    "    global counter2\n",
    "    \n",
    "    for elements in str_list:\n",
    "        for characters in elements:\n",
    "            counter2 +=1\n",
    "        print(counter2)\n",
    "        counter2=0\n",
    "\n",
    "str_list=[\"grape\",\"strawberry\",\"fig\"]\n",
    "find_string_characters(str_list)"
   ]
  }
 ],
 "metadata": {
  "kernelspec": {
   "display_name": "base",
   "language": "python",
   "name": "python3"
  },
  "language_info": {
   "codemirror_mode": {
    "name": "ipython",
    "version": 3
   },
   "file_extension": ".py",
   "mimetype": "text/x-python",
   "name": "python",
   "nbconvert_exporter": "python",
   "pygments_lexer": "ipython3",
   "version": "3.11.4"
  }
 },
 "nbformat": 4,
 "nbformat_minor": 2
}
