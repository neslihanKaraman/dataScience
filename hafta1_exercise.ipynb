{
 "cells": [
  {
   "cell_type": "markdown",
   "metadata": {},
   "source": [
    "# Week 1"
   ]
  },
  {
   "cell_type": "markdown",
   "metadata": {},
   "source": [
    "#### Exercise 1\n",
    "Write a function that receives a list as parameter and return how many elements it has; if it doesn't have any element return an error."
   ]
  },
  {
   "cell_type": "code",
   "execution_count": 3,
   "metadata": {},
   "outputs": [
    {
     "data": {
      "text/plain": [
       "5"
      ]
     },
     "execution_count": 3,
     "metadata": {},
     "output_type": "execute_result"
    }
   ],
   "source": [
    "#first way\n",
    "counter=0\n",
    "def find_number_elements(list):\n",
    "    #I used global variable to access from within the function\n",
    "    global counter\n",
    "    \n",
    "    for elements in list:\n",
    "        counter +=1\n",
    "\n",
    "    if counter==0:\n",
    "        #raise ValueError(\"Empty list error: List is empty.\")\n",
    "        return(\"error\")\n",
    "    else:\n",
    "        return(counter)\n",
    "\n",
    "list_a=[12,15,16,24,60]\n",
    "\n",
    "find_number_elements(list_a)\n"
   ]
  },
  {
   "cell_type": "code",
   "execution_count": 1,
   "metadata": {},
   "outputs": [
    {
     "data": {
      "text/plain": [
       "'List have 3 elements.'"
      ]
     },
     "execution_count": 1,
     "metadata": {},
     "output_type": "execute_result"
    }
   ],
   "source": [
    "#second way\n",
    "def list_size(my_list):\n",
    "    size=len(my_list)\n",
    "    if(size>0):\n",
    "        return f\"List have {size} elements.\"\n",
    "    return \"Error\"\n",
    "list_c=[45,53,64]\n",
    "list_size(list_c)"
   ]
  },
  {
   "cell_type": "markdown",
   "metadata": {},
   "source": [
    "#### Exercise 2\n",
    "Write a function that receives a string as parameter and return the number of each character in it."
   ]
  },
  {
   "cell_type": "code",
   "execution_count": 6,
   "metadata": {},
   "outputs": [
    {
     "name": "stdout",
     "output_type": "stream",
     "text": [
      "5\n",
      "10\n",
      "3\n"
     ]
    }
   ],
   "source": [
    "#first way\n",
    "counter2=0\n",
    "def find_string_characters(str_list):\n",
    "    #I used global variable to access from within the function\n",
    "    global counter2\n",
    "    \n",
    "    for elements in str_list:\n",
    "        for characters in elements:\n",
    "            counter2 +=1\n",
    "        print(counter2)\n",
    "        counter2=0\n",
    "\n",
    "str_list=[\"grape\",\"strawberry\",\"fig\"]\n",
    "find_string_characters(str_list)"
   ]
  },
  {
   "cell_type": "code",
   "execution_count": 9,
   "metadata": {},
   "outputs": [
    {
     "data": {
      "text/plain": [
       "Counter({'t': 2,\n",
       "         'h': 1,\n",
       "         'i': 3,\n",
       "         's': 3,\n",
       "         ' ': 3,\n",
       "         'a': 1,\n",
       "         'r': 1,\n",
       "         'n': 1,\n",
       "         'g': 1,\n",
       "         '.': 1})"
      ]
     },
     "execution_count": 9,
     "metadata": {},
     "output_type": "execute_result"
    }
   ],
   "source": [
    "#second way\n",
    "from collections import Counter\n",
    "\n",
    "def string_char(my_string):\n",
    "    result= Counter(my_string)\n",
    "    return result\n",
    "\n",
    "ss=\"this is a string.\"\n",
    "string_char(ss)"
   ]
  }
 ],
 "metadata": {
  "kernelspec": {
   "display_name": "base",
   "language": "python",
   "name": "python3"
  },
  "language_info": {
   "codemirror_mode": {
    "name": "ipython",
    "version": 3
   },
   "file_extension": ".py",
   "mimetype": "text/x-python",
   "name": "python",
   "nbconvert_exporter": "python",
   "pygments_lexer": "ipython3",
   "version": "3.11.4"
  }
 },
 "nbformat": 4,
 "nbformat_minor": 2
}
