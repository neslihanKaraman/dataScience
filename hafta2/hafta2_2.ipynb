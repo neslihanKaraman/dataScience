{
 "cells": [
  {
   "cell_type": "markdown",
   "metadata": {},
   "source": [
    "# Python intro continue"
   ]
  },
  {
   "cell_type": "markdown",
   "metadata": {},
   "source": [
    "#### Sets\n",
    "(iteration,membership,len,copy)                                             \n",
    "every object is unique                                                             \n",
    "sets are mutable                                                                   \n",
    "frozensets are immutable                                                           \n",
    "sets do not support (indexing,ordering, sorting,slicing,concat)\n"
   ]
  },
  {
   "cell_type": "code",
   "execution_count": 3,
   "metadata": {},
   "outputs": [
    {
     "name": "stdout",
     "output_type": "stream",
     "text": [
      "<class 'set'>\n",
      "{'world', 'animal', 'people'}\n"
     ]
    }
   ],
   "source": [
    "my_set={\"world\"}\n",
    "print(type(my_set))\n",
    "\n",
    "my_set2={\"world\",\"people\",\"animal\",\"people\"}\n",
    "print(my_set2)"
   ]
  },
  {
   "cell_type": "code",
   "execution_count": 4,
   "metadata": {},
   "outputs": [
    {
     "name": "stdout",
     "output_type": "stream",
     "text": [
      "{'black', 'yellow', 'brown'}\n"
     ]
    }
   ],
   "source": [
    "animal_colors={ \n",
    "    \"cat\":\"yellow\",\n",
    "    \"dog\":\"black\",\n",
    "    \"horse\":\"brown\",\n",
    "    \"bear\":\"brown\"\n",
    "}\n",
    "animal_set=set(animal_colors.values())\n",
    "print(animal_set)"
   ]
  },
  {
   "cell_type": "code",
   "execution_count": 6,
   "metadata": {},
   "outputs": [
    {
     "name": "stdout",
     "output_type": "stream",
     "text": [
      "{9, 6084}\n"
     ]
    }
   ],
   "source": [
    "numbers=[1,1,1,2,2,2,3,3,4,5,5,78]\n",
    "calculated_num={number**2 for number in numbers if number %3 ==0}\n",
    "print(calculated_num)\n"
   ]
  },
  {
   "cell_type": "code",
   "execution_count": 7,
   "metadata": {},
   "outputs": [
    {
     "name": "stdout",
     "output_type": "stream",
     "text": [
      "{'a', 't', 's', 'c', 'e', 'd', 'i', ' ', 'n'}\n"
     ]
    }
   ],
   "source": [
    "elements_string=set(\"data science\")\n",
    "print( elements_string)"
   ]
  },
  {
   "cell_type": "code",
   "execution_count": 12,
   "metadata": {},
   "outputs": [
    {
     "name": "stdout",
     "output_type": "stream",
     "text": [
      "False\n",
      "True\n",
      "True\n"
     ]
    }
   ],
   "source": [
    "birds={'crow','sparrow','eagle','chicken','albatross'}\n",
    "animals={\n",
    "    'chicken':\"white\",\n",
    "    'sparrow':'grey',\n",
    "    'eagle':\"brown and white\",\n",
    "    'albatross':'grey and white',\n",
    "    'crow':'black'\n",
    "}\n",
    "\n",
    "print(birds.isdisjoint(animals)) \n",
    "print(birds.issubset(animals))\n",
    "print(set(animals).issuperset(birds))"
   ]
  },
  {
   "cell_type": "markdown",
   "metadata": {},
   "source": [
    "#### Class"
   ]
  },
  {
   "cell_type": "code",
   "execution_count": null,
   "metadata": {},
   "outputs": [],
   "source": [
    "class MyClass:\n",
    "    \n",
    "    pass"
   ]
  },
  {
   "cell_type": "code",
   "execution_count": 21,
   "metadata": {},
   "outputs": [
    {
     "name": "stdout",
     "output_type": "stream",
     "text": [
      "<class '__main__.Animal'>\n",
      "0\n",
      "True\n",
      "2\n"
     ]
    }
   ],
   "source": [
    "class Animal:\n",
    "    isAlive =True\n",
    "    age=0\n",
    "\n",
    "my_cat=Animal()\n",
    "print(type(my_cat))\n",
    "print(my_cat.age)\n",
    "print(my_cat.isAlive)\n",
    "\n",
    "my_second_cat=Animal()\n",
    "my_second_cat.age=2\n",
    "print(my_second_cat.age)\n"
   ]
  },
  {
   "cell_type": "code",
   "execution_count": 42,
   "metadata": {},
   "outputs": [
    {
     "name": "stdout",
     "output_type": "stream",
     "text": [
      "dict_values(['Home'])\n",
      "meow\n",
      "1\n"
     ]
    }
   ],
   "source": [
    "class Cat:\n",
    "    isAlive =True\n",
    "    age=0\n",
    "\n",
    "    def __init__(self, location):\n",
    "        self.location=location.values()\n",
    "\n",
    "    def sound(self):\n",
    "        return \"meow\"\n",
    "    \n",
    "    def aged(self):\n",
    "        #self.age +=1\n",
    "        Cat.age +=1\n",
    "        return Cat.age\n",
    "\n",
    "my_third_cat = Cat(location={\"loc\":\"Home\"})\n",
    "print(my_third_cat.location)\n",
    "\n",
    "print(my_third_cat.sound())\n",
    "\n",
    "print(my_third_cat.aged())"
   ]
  },
  {
   "cell_type": "markdown",
   "metadata": {},
   "source": [
    "#### packing and unpacking"
   ]
  },
  {
   "cell_type": "code",
   "execution_count": 44,
   "metadata": {},
   "outputs": [
    {
     "name": "stdout",
     "output_type": "stream",
     "text": [
      "apple\n",
      "mango\n",
      "banana\n",
      "['cherry', 'orange', 'kiwi', 'melon']\n"
     ]
    }
   ],
   "source": [
    "fruits = [\"apple\", \"banana\", \"cherry\", \"orange\", \"kiwi\", \"melon\", \"mango\"]\n",
    "first, second, *remaning, last = fruits\n",
    "print(first)\n",
    "print(last)\n",
    "print(second)\n",
    "print(remaning)"
   ]
  },
  {
   "cell_type": "code",
   "execution_count": 46,
   "metadata": {},
   "outputs": [
    {
     "name": "stdout",
     "output_type": "stream",
     "text": [
      "(1, 2, 3, 'car')\n"
     ]
    }
   ],
   "source": [
    "def my_example(*args):\n",
    "    return print(args)\n",
    "\n",
    "my_example(1, 2, 3, \"car\")"
   ]
  },
  {
   "cell_type": "code",
   "execution_count": 47,
   "metadata": {},
   "outputs": [
    {
     "data": {
      "text/plain": [
       "'My number is: 10, (11, 12)'"
      ]
     },
     "execution_count": 47,
     "metadata": {},
     "output_type": "execute_result"
    }
   ],
   "source": [
    "def my_example(my_number, *args):\n",
    "    return f\"My number is: {my_number}, {args}\"\n",
    "\n",
    "my_example(10, 11, 12)"
   ]
  },
  {
   "cell_type": "code",
   "execution_count": 48,
   "metadata": {},
   "outputs": [
    {
     "data": {
      "text/plain": [
       "{'number_first_number': 10, 'number_second_number': 11}"
      ]
     },
     "execution_count": 48,
     "metadata": {},
     "output_type": "execute_result"
    }
   ],
   "source": [
    "def second_example(**kwargs):\n",
    "    return kwargs\n",
    "\n",
    "second_example(number_first_number=10, number_second_number=11,)"
   ]
  },
  {
   "cell_type": "code",
   "execution_count": 49,
   "metadata": {},
   "outputs": [
    {
     "data": {
      "text/plain": [
       "\"Special number: 2, Others: {'number_first_number': 10, 'number_second_number': 11}\""
      ]
     },
     "execution_count": 49,
     "metadata": {},
     "output_type": "execute_result"
    }
   ],
   "source": [
    "def third_example(special_number=1, **kwargs):\n",
    "    return f\"Special number: {special_number}, Others: {kwargs}\"\n",
    "\n",
    "third_example(special_number=2, number_first_number=10, number_second_number=11,)"
   ]
  },
  {
   "cell_type": "code",
   "execution_count": 50,
   "metadata": {},
   "outputs": [],
   "source": [
    "# def my_function(<positional_args>, *args, <key-word_args>, **kwargs)"
   ]
  }
 ],
 "metadata": {
  "kernelspec": {
   "display_name": "base",
   "language": "python",
   "name": "python3"
  },
  "language_info": {
   "codemirror_mode": {
    "name": "ipython",
    "version": 3
   },
   "file_extension": ".py",
   "mimetype": "text/x-python",
   "name": "python",
   "nbconvert_exporter": "python",
   "pygments_lexer": "ipython3",
   "version": "3.11.4"
  }
 },
 "nbformat": 4,
 "nbformat_minor": 2
}
